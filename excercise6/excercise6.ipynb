{
 "cells": [
  {
   "cell_type": "markdown",
   "source": [
    "# Weka machine learning toolkit\n",
    "\n",
    "* [Download Weka](https://www.cs.waikato.ac.nz/~ml/weka/)\n",
    "* [Data mining with Weka video series](https://www.youtube.com/user/WekaMOOC)\n",
    "\n",
    "# Exercise 6\n",
    "\n",
    "For this exercise you can use either Python with sklearn or Weka.\n",
    "\n",
    "* Using the UCI mushroom dataset from the last exercise, perform a feature selection using a classifier evaluator. Which features are most discriminitave?\n",
    "* Use principal components analysis to construct a reduced space. Which combination of features explain the most variance in the dataset?\n",
    "* Do you see any overlap between the PCA features and those obtained from feature selection?"
   ],
   "metadata": {
    "collapsed": false
   },
   "id": "d4764904042b3aa2"
  },
  {
   "cell_type": "code",
   "execution_count": 48,
   "outputs": [],
   "source": [
    "import pandas as pd\n",
    "import numpy as np\n",
    "from sklearn.preprocessing import LabelEncoder\n",
    "from sklearn.feature_selection import SelectKBest\n",
    "from sklearn.feature_selection import chi2\n",
    "from sklearn.decomposition import PCA\n",
    "import matplotlib.pyplot as plt\n"
   ],
   "metadata": {
    "collapsed": false,
    "ExecuteTime": {
     "end_time": "2023-10-05T15:13:29.264074500Z",
     "start_time": "2023-10-05T15:13:29.254546300Z"
    }
   },
   "id": "7f0dd2a5811a06fa"
  },
  {
   "cell_type": "code",
   "execution_count": 49,
   "outputs": [
    {
     "name": "stdout",
     "output_type": "stream",
     "text": [
      "(8124,)\n",
      "(8124, 117)\n"
     ]
    }
   ],
   "source": [
    "# Load the dataset\n",
    "df = pd.read_csv('./data/agaricus-lepiota.data')\n",
    "\n",
    "# Add dummies to X and y\n",
    "y = df['edibility'].map({'e': 1, 'p': 0})\n",
    "\n",
    "X = pd.get_dummies(df.drop('edibility', axis=1))\n",
    "\n",
    "print(y.shape)\n",
    "print(X.shape)\n"
   ],
   "metadata": {
    "collapsed": false,
    "ExecuteTime": {
     "end_time": "2023-10-05T15:13:29.312108600Z",
     "start_time": "2023-10-05T15:13:29.260080600Z"
    }
   },
   "id": "bc1f4b6d0102b80f"
  },
  {
   "cell_type": "code",
   "execution_count": 50,
   "outputs": [
    {
     "name": "stdout",
     "output_type": "stream",
     "text": [
      "Selected features based on chi2:\n",
      "['odor_f' 'odor_n' 'gill-color_b' 'stalk-surface-above-ring_k'\n",
      " 'stalk-surface-below-ring_k']\n"
     ]
    }
   ],
   "source": [
    "# Perform feature selection\n",
    "skb = SelectKBest(chi2, k=5)\n",
    "skb.fit(X, y)\n",
    "X_new = skb.transform(X)\n",
    "\n",
    "# Show selected features\n",
    "print(\"Selected features based on chi2:\")\n",
    "print(np.array(X.columns)[skb.get_support(indices=True)])\n"
   ],
   "metadata": {
    "collapsed": false,
    "ExecuteTime": {
     "end_time": "2023-10-05T15:13:29.334191300Z",
     "start_time": "2023-10-05T15:13:29.312108600Z"
    }
   },
   "id": "7e18058158ca340f"
  },
  {
   "cell_type": "code",
   "execution_count": 51,
   "outputs": [
    {
     "name": "stdout",
     "output_type": "stream",
     "text": [
      "Original space: (8124, 117)\n",
      "PCA space: (8124, 5)\n",
      "Most contributing features for each principal component:\n",
      "- ring-type_p\n",
      "- spore-print-color_h\n",
      "- habitat_d\n",
      "- stalk-shape_e\n",
      "- odor_n\n"
     ]
    }
   ],
   "source": [
    "import numpy as np\n",
    "import matplotlib.pyplot as plt\n",
    "from mpl_toolkits.mplot3d import Axes3D\n",
    "\n",
    "from sklearn import decomposition\n",
    "from sklearn import datasets\n",
    "\n",
    "centers = [[1, 1], [-1, -1], [1, -1]]\n",
    "\n",
    "print(\"Original space:\",X.shape)\n",
    "pca = decomposition.PCA(n_components=5)\n",
    "pca.fit(X)\n",
    "Xpca = pca.transform(X)\n",
    "\n",
    "print(\"PCA space:\",Xpca.shape)\n",
    "# Get most contributing feature for each principal component\n",
    "most_contributing_features = []\n",
    "\n",
    "for component in pca.components_:\n",
    "    feature_index = np.argmax(np.abs(component))  # Taking absolute values, as sign might not be meaningful\n",
    "    most_contributing_features.append(X.columns[feature_index])\n",
    "\n",
    "print(\"Most contributing features for each principal component:\")\n",
    "for feature in most_contributing_features:\n",
    "    print(f\"- {feature}\")\n"
   ],
   "metadata": {
    "collapsed": false,
    "ExecuteTime": {
     "end_time": "2023-10-05T15:13:29.416097400Z",
     "start_time": "2023-10-05T15:13:29.334191300Z"
    }
   },
   "id": "11caa4a477955251"
  },
  {
   "cell_type": "code",
   "execution_count": 52,
   "outputs": [
    {
     "name": "stdout",
     "output_type": "stream",
     "text": [
      "Features selected by chi2: {'stalk-surface-below-ring_k', 'stalk-surface-above-ring_k', 'odor_n', 'odor_f', 'gill-color_b'}\n",
      "Overlapping features:\n",
      "- odor_n\n"
     ]
    }
   ],
   "source": [
    "\n",
    "\n",
    "# Features selected by SelectKBest\n",
    "selected_features = set(np.array(X.columns)[skb.get_support(indices=True)])\n",
    "print(f\"Features selected by chi2: {selected_features}\")\n",
    "\n",
    "# Check overlap\n",
    "overlap_features = selected_features.intersection(most_contributing_features)\n",
    "\n",
    "print(\"Overlapping features:\")\n",
    "for feature in overlap_features:\n",
    "    print(f\"- {feature}\")"
   ],
   "metadata": {
    "collapsed": false,
    "ExecuteTime": {
     "end_time": "2023-10-05T15:13:29.422591100Z",
     "start_time": "2023-10-05T15:13:29.413117100Z"
    }
   },
   "id": "3e2a2d4cf7d334fc"
  }
 ],
 "metadata": {
  "kernelspec": {
   "display_name": "Python 3",
   "language": "python",
   "name": "python3"
  },
  "language_info": {
   "codemirror_mode": {
    "name": "ipython",
    "version": 2
   },
   "file_extension": ".py",
   "mimetype": "text/x-python",
   "name": "python",
   "nbconvert_exporter": "python",
   "pygments_lexer": "ipython2",
   "version": "2.7.6"
  }
 },
 "nbformat": 4,
 "nbformat_minor": 5
}
