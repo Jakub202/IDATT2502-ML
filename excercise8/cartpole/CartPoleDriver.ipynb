{
 "cells": [
  {
   "cell_type": "code",
   "execution_count": 4,
   "id": "initial_id",
   "metadata": {
    "collapsed": true,
    "ExecuteTime": {
     "end_time": "2023-10-20T12:26:04.576956700Z",
     "start_time": "2023-10-20T12:26:04.574947500Z"
    }
   },
   "outputs": [],
   "source": [
    "import gym\n",
    "import numpy as np\n",
    "import time\n",
    "import matplotlib.pyplot as plt\n",
    "\n",
    "from excercise8.cartpole.CartPoleFunctions import CartPoleFunctions"
   ]
  },
  {
   "cell_type": "code",
   "execution_count": 5,
   "outputs": [],
   "source": [
    "env=gym.make('CartPole-v1')\n",
    "(state,_)=env.reset()\n",
    "\n",
    "\n",
    "# here define the parameters for state discretization\n",
    "upper_bounds = env.observation_space.high\n",
    "lower_bounds = env.observation_space.low\n",
    "cart_velocity_min = -3\n",
    "cart_velocity_max = 3\n",
    "pole_angle_velocity_min = -10\n",
    "pole_angle_velocity_max = 10\n",
    "upper_bounds[1] = cart_velocity_max\n",
    "upper_bounds[3] = pole_angle_velocity_max\n",
    "lower_bounds[1] = cart_velocity_min\n",
    "lower_bounds[3] = pole_angle_velocity_min\n",
    "\n",
    "number_of_bins_position = 30\n",
    "number_of_bins_velocity = 30\n",
    "number_of_bins_angle = 30\n",
    "number_of_bins_angle_velocity = 30\n",
    "number_of_bins = [number_of_bins_position, number_of_bins_velocity, number_of_bins_angle, number_of_bins_angle_velocity]\n",
    "\n",
    "# define the parameters\n",
    "alpha=0.1\n",
    "gamma=1\n",
    "epsilon=0.2\n",
    "numberEpisodes=15000"
   ],
   "metadata": {
    "collapsed": false,
    "ExecuteTime": {
     "end_time": "2023-10-20T12:26:05.777916500Z",
     "start_time": "2023-10-20T12:26:05.773916600Z"
    }
   },
   "id": "9051d50e70debb7f"
  },
  {
   "cell_type": "code",
   "execution_count": null,
   "outputs": [
    {
     "name": "stderr",
     "output_type": "stream",
     "text": [
      "  0%|          | 0/15000 [00:00<?, ?it/s]C:\\Users\\Kuba\\AppData\\Local\\Programs\\Python\\ml_task1\\Lib\\site-packages\\gym\\utils\\passive_env_checker.py:233: DeprecationWarning: `np.bool8` is a deprecated alias for `np.bool_`.  (Deprecated NumPy 1.24)\n",
      "  if not isinstance(terminated, (bool, np.bool8)):\n",
      " 79%|███████▉  | 11910/15000 [11:55<05:24,  9.51it/s]"
     ]
    }
   ],
   "source": [
    "Q1 = CartPoleFunctions(env, alpha, gamma, epsilon, numberEpisodes, number_of_bins, lower_bounds, upper_bounds)\n",
    "\n",
    "Q1.simulateEpisodes()"
   ],
   "metadata": {
    "collapsed": false,
    "is_executing": true,
    "ExecuteTime": {
     "start_time": "2023-10-20T12:26:08.814894900Z"
    }
   },
   "id": "1d44fc34b7c25e64"
  },
  {
   "cell_type": "code",
   "execution_count": null,
   "outputs": [],
   "source": [
    "# simulate the learned strategy\n",
    "(obtainedRewardsOptimal,env1)=Q1.simulateLearnedStrategy()\n",
    "\n",
    "plt.figure(figsize=(12, 5))\n",
    "# plot the figure and adjust the plot parameters\n",
    "plt.plot(Q1.sumRewardsEpisode,color='blue',linewidth=1)\n",
    "plt.xlabel('Episode')\n",
    "plt.ylabel('Sum of Rewards in Episode')\n",
    "plt.yscale('log')\n",
    "plt.savefig('convergence.png')\n",
    "plt.show()\n",
    "\n",
    "# close the environment\n",
    "env1.close()"
   ],
   "metadata": {
    "collapsed": false,
    "ExecuteTime": {
     "start_time": "2023-10-19T19:42:48.079509100Z"
    }
   },
   "id": "4bd5115aabe177f4"
  },
  {
   "cell_type": "code",
   "execution_count": null,
   "outputs": [],
   "source": [
    "# now simulate a random strategy\n",
    "(obtainedRewardsRandom,env2)=Q1.simulateRandomStrategy()\n",
    "plt.hist(obtainedRewardsRandom)\n",
    "plt.xlabel('Sum of rewards')\n",
    "plt.ylabel('Percentage')\n",
    "plt.savefig('histogram.png')\n",
    "plt.show()\n",
    "env2.close()"
   ],
   "metadata": {
    "collapsed": false,
    "ExecuteTime": {
     "end_time": "2023-10-19T19:42:48.082509800Z",
     "start_time": "2023-10-19T19:42:48.080515800Z"
    }
   },
   "id": "e3ea1151944d8463"
  },
  {
   "cell_type": "code",
   "execution_count": null,
   "outputs": [],
   "source": [],
   "metadata": {
    "collapsed": false,
    "ExecuteTime": {
     "end_time": "2023-10-19T19:42:48.083511900Z",
     "start_time": "2023-10-19T19:42:48.082509800Z"
    }
   },
   "id": "8dbd4e19ad01ac31"
  }
 ],
 "metadata": {
  "kernelspec": {
   "display_name": "Python 3",
   "language": "python",
   "name": "python3"
  },
  "language_info": {
   "codemirror_mode": {
    "name": "ipython",
    "version": 2
   },
   "file_extension": ".py",
   "mimetype": "text/x-python",
   "name": "python",
   "nbconvert_exporter": "python",
   "pygments_lexer": "ipython2",
   "version": "2.7.6"
  }
 },
 "nbformat": 4,
 "nbformat_minor": 5
}
