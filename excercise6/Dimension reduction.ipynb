{
 "cells": [
  {
   "cell_type": "markdown",
   "metadata": {},
   "source": [
    "# Dimension reduction\n",
    "\n",
    "Dimensionality is defined as the number of features per instance in a dataset. Dimensionality plays an important role in the following:\n",
    "\n",
    "* Visualisation - it becomes non-trivial to visualise data with more than 3 dimensions\n",
    "* Overfitting - Caused by small number of instances with high dimensionality see [here](http://www.visiondummy.com/2014/04/curse-dimensionality-affect-classification/) for a nice example\n",
    "* Uneven sparsity in the feature space\n",
    "* Training time\n",
    "* Storage\n",
    "\n",
    "## The \"curse of dimensionality\"\n",
    "\n",
    "As the number of dimensions grows, the more difficult classification and clustering becomes.\n",
    "\n",
    "[Further reading (Wikipedia)](https://en.wikipedia.org/wiki/Curse_of_dimensionality)\n",
    "\n",
    "## Mitigations\n",
    "\n",
    "* Feature selection\n",
    "* Feature projection N->K (linear combinations of features) -> *transformation*\n",
    "* Cross-validation (classification overfitting only)\n",
    "\n",
    "# Feature selection\n",
    "\n",
    "* Let's go through some examples of sklearn's [feature selection](http://scikit-learn.org/stable/modules/feature_selection.html#feature-selection)"
   ]
  },
  {
   "cell_type": "code",
   "execution_count": 8,
   "metadata": {
    "ExecuteTime": {
     "start_time": "2023-10-05T11:17:02.285277Z"
    },
    "is_executing": true
   },
   "outputs": [
    {
     "name": "stdout",
     "output_type": "stream",
     "text": [
      "(150, 4)\n",
      "(150, 2)\n"
     ]
    },
    {
     "data": {
      "text/plain": [
       "array(['petal length (cm)', 'petal width (cm)'], dtype='<U17')"
      ]
     },
     "execution_count": 8,
     "metadata": {},
     "output_type": "execute_result"
    }
   ],
   "source": [
    "from sklearn.datasets import load_iris\n",
    "from sklearn.feature_selection import SelectKBest\n",
    "from sklearn.feature_selection import chi2\n",
    "import numpy as np\n",
    "\n",
    "# Let's do some feature selection on iris\n",
    "iris = load_iris()\n",
    "X, y = iris.data, iris.target\n",
    "\n",
    "print(X.shape)\n",
    "\n",
    "skb = SelectKBest(chi2, k=2)\n",
    "skb.fit(X, y)\n",
    "X_new = skb.transform(X)\n",
    "\n",
    "print(X_new.shape)\n",
    "\n",
    "# Fetch the selected feature indices and print the corresponding feature names\n",
    "np.array(iris.feature_names)[skb.get_support(indices=True)]"
   ]
  },
  {
   "cell_type": "markdown",
   "metadata": {},
   "source": [
    "# Feature transformations and projections\n",
    "\n",
    "We'll project our data into a 3-dimensional space suitable for visualisation using principal components analysis (PCA).\n",
    "\n",
    "* Example from [here](http://scikit-learn.org/stable/auto_examples/decomposition/plot_pca_iris.html)\n",
    "* [More information on PCA](http://scikit-learn.org/stable/modules/generated/sklearn.decomposition.PCA.html)\n",
    "\n",
    "## Iris dataset"
   ]
  },
  {
   "cell_type": "code",
   "execution_count": 9,
   "metadata": {
    "is_executing": true
   },
   "outputs": [
    {
     "name": "stdout",
     "output_type": "stream",
     "text": [
      "Original space: (150, 4)\n",
      "PCA space: (150, 3)\n",
      "Original feature names:  ['sepal length (cm)', 'sepal width (cm)', 'petal length (cm)']\n"
     ]
    },
    {
     "data": {
      "image/png": "[encoded data removed]",
      "text/plain": [
       "<Figure size 800x600 with 1 Axes>"
      ]
     },
     "metadata": {},
     "output_type": "display_data"
    },
    {
     "data": {
      "image/png": "[encoded data removed]",
      "text/plain": [
       "<Figure size 800x600 with 1 Axes>"
      ]
     },
     "metadata": {},
     "output_type": "display_data"
    },
    {
     "data": {
      "text/plain": [
       "[0, 1, 2]"
      ]
     },
     "execution_count": 9,
     "metadata": {},
     "output_type": "execute_result"
    }
   ],
   "source": [
    "# Code source: Gaël Varoquaux\n",
    "# License: BSD 3 clause\n",
    "\n",
    "import numpy as np\n",
    "import matplotlib.pyplot as plt\n",
    "from mpl_toolkits.mplot3d import Axes3D\n",
    "\n",
    "from sklearn import decomposition\n",
    "from sklearn import datasets\n",
    "\n",
    "centers = [[1, 1], [-1, -1], [1, -1]]\n",
    "iris = datasets.load_iris()\n",
    "X = iris.data\n",
    "y = iris.target\n",
    "\n",
    "print(\"Original space:\",X.shape)\n",
    "pca = decomposition.PCA(n_components=3)\n",
    "pca.fit(X)\n",
    "Xpca = pca.transform(X)\n",
    "\n",
    "print(\"PCA space:\",Xpca.shape)\n",
    "\n",
    "#########################\n",
    "# Plot originals\n",
    "#########################\n",
    "fig = plt.figure(1, figsize=(8, 6))\n",
    "plt.clf()\n",
    "ax = Axes3D(fig, rect=[0, 0, .95, 1], elev=48, azim=134)\n",
    "\n",
    "plt.cla()\n",
    "\n",
    "# Vis some rando features\n",
    "f = sorted(np.random.permutation(X.shape[1])[1:4])\n",
    "print(\"Original feature names: \",[iris.feature_names[i] for i in f])\n",
    "\n",
    "for name, label in [('Setosa', 0), ('Versicolour', 1), ('Virginica', 2)]:\n",
    "    ax.text3D(X[y == label, f[0]].mean(),\n",
    "              X[y == label, f[1]].mean() + 2,\n",
    "              X[y == label, f[2]].mean(), name,\n",
    "              horizontalalignment='center',\n",
    "              bbox=dict(alpha=.5, edgecolor='w', facecolor='w'))\n",
    "# Reorder the labels to have colors matching the cluster results\n",
    "y = np.choose(y, [1, 2, 0]).astype(float)\n",
    "\n",
    "ax.scatter(X[:, f[0]], X[:, f[1]], X[:, f[2]], c=y, cmap=plt.cm.nipy_spectral,\n",
    "           edgecolor='k')\n",
    "\n",
    "ax.xaxis.set_ticklabels([])\n",
    "ax.yaxis.set_ticklabels([])\n",
    "ax.zaxis.set_ticklabels([])\n",
    "ax.set_title(\"Original space\")\n",
    "\n",
    "plt.draw()\n",
    "plt.show()\n",
    "\n",
    "#########################\n",
    "# Plot PCA\n",
    "#########################\n",
    "fig = plt.figure(2, figsize=(8, 6))\n",
    "plt.clf()\n",
    "ax2 = Axes3D(fig, rect=[0, 0, .95, 1], elev=48, azim=134)\n",
    "\n",
    "plt.cla()\n",
    "# Reset y from np.choose() above\n",
    "y = iris.target\n",
    "\n",
    "for name, label in [('Setosa', 0), ('Versicolour', 1), ('Virginica', 2)]:\n",
    "    ax2.text3D(Xpca[y == label, 0].mean(),\n",
    "              Xpca[y == label, 1].mean() + 2,\n",
    "              Xpca[y == label, 2].mean(), name,\n",
    "              horizontalalignment='center',\n",
    "              bbox=dict(alpha=.5, edgecolor='w', facecolor='w'))\n",
    "# Reorder the ls to have colors matching the cluster results\n",
    "y = np.choose(y, [1, 2, 0]).astype(float)\n",
    "ax2.scatter(Xpca[:, 0], Xpca[:, 1], Xpca[:, 2], c=y, cmap=plt.cm.nipy_spectral,\n",
    "           edgecolor='k')\n",
    "\n",
    "ax2.xaxis.set_ticklabels([])\n",
    "ax2.yaxis.set_ticklabels([])\n",
    "ax2.zaxis.set_ticklabels([])\n",
    "ax2.set_title(\"PCA space\")\n",
    "\n",
    "plt.draw()\n",
    "plt.show()\n",
    "f"
   ]
  },
  {
   "cell_type": "markdown",
   "metadata": {},
   "source": [
    "## Digits dataset example\n",
    "\n",
    "* [About the dataset](http://scikit-learn.org/stable/auto_examples/datasets/plot_digits_last_image.html)\n",
    "* [More visualisations](http://scikit-learn.org/stable/auto_examples/manifold/plot_lle_digits.html)"
   ]
  },
  {
   "cell_type": "code",
   "execution_count": null,
   "metadata": {
    "is_executing": true
   },
   "outputs": [],
   "source": [
    "# Code source: Gaël Varoquaux\n",
    "# License: BSD 3 clause\n",
    "\n",
    "import numpy as np\n",
    "import matplotlib.pyplot as plt\n",
    "from mpl_toolkits.mplot3d import Axes3D\n",
    "\n",
    "from sklearn import decomposition\n",
    "from sklearn import datasets\n",
    "\n",
    "#np.random.seed(5)\n",
    "\n",
    "centers = [[1, 1], [-1, -1], [1, -1]]\n",
    "digits = datasets.load_digits()\n",
    "X = digits.data\n",
    "y = digits.target\n",
    "\n",
    "print(\"Original space:\", X.shape)\n",
    "pca = decomposition.PCA(n_components=3)\n",
    "pca.fit(X)\n",
    "Xpca = pca.transform(X)\n",
    "\n",
    "print(\"PCA space:\", Xpca.shape)\n",
    "\n",
    "#########################\n",
    "# Plot images of the digits\n",
    "#########################\n",
    "n_img_per_row = 20\n",
    "img = np.zeros((10 * n_img_per_row, 10 * n_img_per_row))\n",
    "for i in range(n_img_per_row):\n",
    "    ix = 10 * i + 1\n",
    "    for j in range(n_img_per_row):\n",
    "        iy = 10 * j + 1\n",
    "        img[ix:ix + 8, iy:iy + 8] = X[i * n_img_per_row + j].reshape((8, 8))\n",
    "\n",
    "plt.figure(0, figsize=(8, 6))\n",
    "plt.imshow(img, cmap=plt.cm.binary)\n",
    "plt.xticks([])\n",
    "plt.yticks([])\n",
    "plt.title('A selection from the 64-dimensional digits dataset')\n",
    "\n",
    "#########################\n",
    "# Plot originals (this will be mostly meaningless)\n",
    "#########################\n",
    "fig = plt.figure(1, figsize=(8, 6))\n",
    "plt.clf()\n",
    "ax = Axes3D(fig, rect=[0, 0, .95, 1], elev=48, azim=135)\n",
    "\n",
    "plt.cla()\n",
    "pca = decomposition.PCA(n_components=3)\n",
    "pca.fit(X)\n",
    "\n",
    "# Vis some rando features\n",
    "f = sorted(np.random.permutation(64)[1:4])\n",
    "print(\"Original features (pixel index): \",f)\n",
    "\n",
    "ax.scatter(X[:, f[0]], X[:, f[1]], X[:, f[2]], c=y, cmap=plt.cm.nipy_spectral,\n",
    "           edgecolor='k')\n",
    "\n",
    "ax.w_xaxis.set_ticklabels([])\n",
    "ax.w_yaxis.set_ticklabels([])\n",
    "ax.w_zaxis.set_ticklabels([])\n",
    "ax.set_title(\"Original space\")\n",
    "\n",
    "plt.draw()\n",
    "plt.show()\n",
    "\n",
    "#########################\n",
    "# Plot PCA\n",
    "#########################\n",
    "fig = plt.figure(2, figsize=(8, 6))\n",
    "plt.clf()\n",
    "ax2 = Axes3D(fig, rect=[0, 0, .95, 1], elev=48, azim=135)\n",
    "\n",
    "plt.cla()\n",
    "\n",
    "ax2.scatter(Xpca[:, 0], Xpca[:, 1], Xpca[:, 2], c=y, cmap=plt.cm.nipy_spectral,\n",
    "           edgecolor='k')\n",
    "\n",
    "ax2.w_xaxis.set_ticklabels([])\n",
    "ax2.w_yaxis.set_ticklabels([])\n",
    "ax2.w_zaxis.set_ticklabels([])\n",
    "ax2.set_title(\"PCA space\")\n",
    "\n",
    "plt.draw()\n",
    "plt.show()"
   ]
  },
  {
   "cell_type": "markdown",
   "metadata": {},
   "source": [
    "## Iris dataset example\n",
    "\n",
    "Let's see what the most important two principal components are for the Iris dataset."
   ]
  },
  {
   "cell_type": "code",
   "execution_count": null,
   "metadata": {
    "is_executing": true
   },
   "outputs": [],
   "source": [
    "import pandas as pd\n",
    "import pylab as pl\n",
    "from sklearn import datasets\n",
    "from sklearn.decomposition import PCA\n",
    "\n",
    "# load dataset\n",
    "iris = datasets.load_iris()\n",
    "df = pd.DataFrame(iris.data, columns=iris.feature_names)\n",
    "\n",
    "# normalize data\n",
    "from sklearn import preprocessing\n",
    "data_scaled = pd.DataFrame(preprocessing.scale(df),columns = df.columns) \n",
    "\n",
    "# PCA\n",
    "pca = PCA(n_components=2)\n",
    "pca.fit_transform(data_scaled)\n",
    "\n",
    "# Dump components relations with features:\n",
    "print(pd.DataFrame(pca.components_,columns=data_scaled.columns,index = ['PC-1','PC-2']))\n"
   ]
  },
  {
   "cell_type": "markdown",
   "metadata": {},
   "source": [
    "# Pipelines\n",
    "\n",
    "A 'sklearn.pipeline.Pipeline' can be used to preprocess the features before classification or clustering. NB: For classification our dataset needs labels in 'y'.\n",
    "\n",
    "See the [Pipeline documentation](http://scikit-learn.org/stable/modules/pipeline.html#pipeline)"
   ]
  },
  {
   "cell_type": "code",
   "execution_count": null,
   "metadata": {
    "is_executing": true
   },
   "outputs": [],
   "source": [
    "from sklearn.pipeline import Pipeline\n",
    "from sklearn.feature_selection import SelectFromModel\n",
    "from sklearn.decomposition import PCA\n",
    "from sklearn.svm import LinearSVC, SVC\n",
    "from sklearn.ensemble import RandomForestClassifier\n",
    "\n",
    "from sklearn.datasets import load_digits\n",
    "digits = load_digits()\n",
    "pca1 = PCA(n_components=3)\n",
    "svm1 = SVC()\n",
    "pipe = Pipeline([('reduce_dim', pca1), ('clf', svm1)])\n",
    "pipe.fit(digits.data, digits.target)\n",
    "\n",
    "print(pca1.components_.shape)\n",
    "print(pca1.transform(digits.data).shape)"
   ]
  },
  {
   "cell_type": "markdown",
   "metadata": {},
   "source": [
    "# Weka machine learning toolkit\n",
    "\n",
    "* [Download Weka](https://www.cs.waikato.ac.nz/~ml/weka/)\n",
    "* [Data mining with Weka video series](https://www.youtube.com/user/WekaMOOC)\n",
    "\n",
    "# Exercise 6\n",
    "\n",
    "For this exercise you can use either Python with sklearn or Weka.\n",
    "\n",
    "* Using the UCI mushroom dataset from the last exercise, perform a feature selection using a classifier evaluator. Which features are most discriminitave?\n",
    "* Use principal components analysis to construct a reduced space. Which combination of features explain the most variance in the dataset?\n",
    "* Do you see any overlap between the PCA features and those obtained from feature selection?"
   ]
  }
 ],
 "metadata": {
  "kernelspec": {
   "display_name": "Python 3 (ipykernel)",
   "language": "python",
   "name": "python3"
  },
  "language_info": {
   "codemirror_mode": {
    "name": "ipython",
    "version": 3
   },
   "file_extension": ".py",
   "mimetype": "text/x-python",
   "name": "python",
   "nbconvert_exporter": "python",
   "pygments_lexer": "ipython3",
   "version": "3.11.5"
  }
 },
 "nbformat": 4,
 "nbformat_minor": 4
}
